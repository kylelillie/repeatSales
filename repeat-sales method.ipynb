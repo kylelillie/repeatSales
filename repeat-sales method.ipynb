{
 "cells": [
  {
   "cell_type": "code",
   "execution_count": 57,
   "metadata": {
    "collapsed": false
   },
   "outputs": [
    {
     "name": "stdout",
     "output_type": "stream",
     "text": [
      "['LINC_NBR', 'TITLE_NBR', 'Year', 'MM', 'VALUE', 'MUNI_CODE', 'Municipality']\n",
      "          LINC_NBR    TITLE_NBR  Year    MM      VALUE MUNI_CODE Municipality\n",
      "401960  10000032.0   92215298.0   9.0   6.0   319500.0        98    Edmonton \n",
      "19864   10000058.0  162354191.0  16.0  12.0  1000000.0        98    Edmonton \n",
      "110317  10000115.0  142063925.0  14.0   3.0   540000.0        98    Edmonton \n",
      "567816  10000230.0  112291028.0  11.0   9.0   205000.0        98    Edmonton \n",
      "442495  10000230.0  162104364.0  16.0   4.0   299000.0        98    Edmonton \n"
     ]
    }
   ],
   "source": [
    "import pandas as pd\n",
    "\n",
    "codes = pd.read_csv('muni_codes.csv')\n",
    "months = pd.read_csv('months.csv')\n",
    "\n",
    "data = pd.read_csv('net_LandTitles.csv',low_memory=False, encoding='Latin-1', dtype={'MUNI_CODE':str})\n",
    "\n",
    "data = data.merge(codes, how='left', on='MUNI_CODE')\n",
    "data = data.merge(months, how='left', on='Month')\n",
    "\n",
    "data = data[['LINC_NBR','TITLE_NBR','Year','MM','VALUE','Municipality']]\n",
    "data.sort_values(by=['LINC_NBR','TITLE_NBR','Year','MM'], ascending=True, inplace=True)\n",
    "\n",
    "print (list(data))\n",
    "print (data.head())"
   ]
  },
  {
   "cell_type": "code",
   "execution_count": 66,
   "metadata": {
    "collapsed": false
   },
   "outputs": [
    {
     "name": "stdout",
     "output_type": "stream",
     "text": [
      "          LINC_NBR    TITLE_NBR  Year    MM      VALUE MUNI_CODE Municipality  \\\n",
      "401960  10000032.0   92215298.0   9.0   6.0   319500.0        98    Edmonton    \n",
      "19864   10000058.0  162354191.0  16.0  12.0  1000000.0        98    Edmonton    \n",
      "110317  10000115.0  142063925.0  14.0   3.0   540000.0        98    Edmonton    \n",
      "567816  10000230.0  112291028.0  11.0   9.0   205000.0        98    Edmonton    \n",
      "442495  10000230.0  162104364.0  16.0   4.0   299000.0        98    Edmonton    \n",
      "\n",
      "          YR_$D     YR_%D    TITLES  Muni_Dev  \n",
      "401960      NaN       NaN  232252.0  232252.0  \n",
      "19864       NaN       NaN  232252.0  232252.0  \n",
      "110317      NaN       NaN  232252.0  232252.0  \n",
      "567816      NaN       NaN  232252.0  232252.0  \n",
      "442495  94000.0  0.458537  232252.0  232252.0  \n"
     ]
    }
   ],
   "source": [
    "data['YR_$D'] = data.groupby(['LINC_NBR'])['VALUE'].transform(lambda x: x.diff())\n",
    "data['YR_%D'] = data.groupby(['LINC_NBR'])['VALUE'].transform(lambda x: x.pct_change())\n",
    "data['TITLES'] = data.groupby(['Municipality'])['TITLE_NBR'].transform(lambda x: x.count())\n",
    "print(data.head())"
   ]
  },
  {
   "cell_type": "code",
   "execution_count": 61,
   "metadata": {
    "collapsed": false
   },
   "outputs": [],
   "source": [
    "data.to_csv('repeat_sales.csv',index=False)"
   ]
  }
 ],
 "metadata": {
  "kernelspec": {
   "display_name": "Python 3",
   "language": "python",
   "name": "python3"
  },
  "language_info": {
   "codemirror_mode": {
    "name": "ipython",
    "version": 3
   },
   "file_extension": ".py",
   "mimetype": "text/x-python",
   "name": "python",
   "nbconvert_exporter": "python",
   "pygments_lexer": "ipython3",
   "version": "3.4.5"
  }
 },
 "nbformat": 4,
 "nbformat_minor": 2
}
